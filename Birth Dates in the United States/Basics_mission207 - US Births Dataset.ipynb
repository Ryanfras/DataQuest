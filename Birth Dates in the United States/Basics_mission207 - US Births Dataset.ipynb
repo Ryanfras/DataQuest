{
  "nbformat": 4,
  "nbformat_minor": 0,
  "metadata": {
    "anaconda-cloud": {},
    "kernelspec": {
      "display_name": "Python 3",
      "language": "python",
      "name": "python3"
    },
    "language_info": {
      "codemirror_mode": {
        "name": "ipython",
        "version": 3
      },
      "file_extension": ".py",
      "mimetype": "text/x-python",
      "name": "python",
      "nbconvert_exporter": "python",
      "pygments_lexer": "ipython3",
      "version": "3.6.7"
    },
    "colab": {
      "name": "Basics_mission207 - US Births Dataset.ipynb",
      "provenance": []
    }
  },
  "cells": [
    {
      "cell_type": "markdown",
      "metadata": {
        "id": "pXHp1rk6sqQo",
        "colab_type": "text"
      },
      "source": [
        "## Birth Dates in the United States\n",
        "\n",
        "The raw data behind the story **Some People Are Too Superstitious To Have A Baby on Friday the 13th**, which you can read [here](http://fivethirtyeight.com/features/some-people-are-too-superstitious-to-have-a-baby-on-friday-the-13th/).\n",
        "\n",
        "We'll be working with the data set from the Centers for Disease Control and Prevention's National Center for Health Statistics. The data set has the following structure:\n",
        "\n",
        "- `year` - Year\n",
        "- `month` - Month\n",
        "- `date_of_month` - Day number of the month\n",
        "- `day_of_week` - Day of week, where 1 is Monday and 7 is Sunday\n",
        "- `births` - Number of births\n",
        "\n",
        "the data can be downloaded [here](https://github.com/fivethirtyeight/data/tree/master/births/)"
      ]
    },
    {
      "cell_type": "code",
      "metadata": {
        "id": "P1Zqsl3ftArP",
        "colab_type": "code",
        "colab": {}
      },
      "source": [
        "# this is a change\n",
        "# this is another change"
      ],
      "execution_count": 0,
      "outputs": []
    },
    {
      "cell_type": "markdown",
      "metadata": {
        "id": "oNqdqgPfsqQq",
        "colab_type": "text"
      },
      "source": [
        "### Get the data\n",
        "\n",
        "There are a few ways to read data directly from github."
      ]
    },
    {
      "cell_type": "code",
      "metadata": {
        "id": "kbPZ2XJZsqQr",
        "colab_type": "code",
        "colab": {}
      },
      "source": [
        "url = \"https://raw.githubusercontent.com/fivethirtyeight/data/master/births/US_births_2000-2014_SSA.csv\""
      ],
      "execution_count": 0,
      "outputs": []
    },
    {
      "cell_type": "markdown",
      "metadata": {
        "id": "BW-_NyfVsqQu",
        "colab_type": "text"
      },
      "source": [
        "Using csv and urllib. "
      ]
    },
    {
      "cell_type": "code",
      "metadata": {
        "id": "2XAcOcYRsqQv",
        "colab_type": "code",
        "colab": {}
      },
      "source": [
        "import csv\n",
        "import urllib.request as ur"
      ],
      "execution_count": 0,
      "outputs": []
    },
    {
      "cell_type": "markdown",
      "metadata": {
        "id": "vNP9OGNHsqQz",
        "colab_type": "text"
      },
      "source": [
        "Open and read the html file to investigate the contents"
      ]
    },
    {
      "cell_type": "code",
      "metadata": {
        "id": "KY41iu7tsqQ0",
        "colab_type": "code",
        "colab": {}
      },
      "source": [
        "file = ur.urlopen(url)\n",
        "html = file.read()\n",
        "text_urllib = html.decode()"
      ],
      "execution_count": 0,
      "outputs": []
    },
    {
      "cell_type": "markdown",
      "metadata": {
        "id": "-B-xvwhJsqQ2",
        "colab_type": "text"
      },
      "source": [
        "We can also use requests package"
      ]
    },
    {
      "cell_type": "code",
      "metadata": {
        "id": "sh_SFi_VsqQ3",
        "colab_type": "code",
        "colab": {}
      },
      "source": [
        "import requests"
      ],
      "execution_count": 0,
      "outputs": []
    },
    {
      "cell_type": "code",
      "metadata": {
        "id": "R2O3-aP9sqQ5",
        "colab_type": "code",
        "colab": {}
      },
      "source": [
        "text_requests = requests.get(url).text"
      ],
      "execution_count": 0,
      "outputs": []
    },
    {
      "cell_type": "markdown",
      "metadata": {
        "id": "wy2ALJdusqQ9",
        "colab_type": "text"
      },
      "source": [
        "From here on both methods use the same code. Split the file into a list for each row in the csv file by using the delimiter '\\r'"
      ]
    },
    {
      "cell_type": "code",
      "metadata": {
        "id": "sGHo0k_csqQ-",
        "colab_type": "code",
        "colab": {}
      },
      "source": [
        "split = text_urllib.split('\\r')\n",
        "split = text_requests.split('\\r')"
      ],
      "execution_count": 0,
      "outputs": []
    },
    {
      "cell_type": "code",
      "metadata": {
        "collapsed": true,
        "id": "Y8NPMeoKsqRA",
        "colab_type": "code",
        "colab": {
          "base_uri": "https://localhost:8080/",
          "height": 101
        },
        "outputId": "fdceb7c5-0056-45ce-c975-046be59a859d"
      },
      "source": [
        "for row in split[0:5]:\n",
        "    line = row.split(',')\n",
        "    print(line)"
      ],
      "execution_count": 7,
      "outputs": [
        {
          "output_type": "stream",
          "text": [
            "['year', 'month', 'date_of_month', 'day_of_week', 'births']\n",
            "['2000', '1', '1', '6', '9083']\n",
            "['2000', '1', '2', '7', '8006']\n",
            "['2000', '1', '3', '1', '11363']\n",
            "['2000', '1', '4', '2', '13032']\n"
          ],
          "name": "stdout"
        }
      ]
    },
    {
      "cell_type": "markdown",
      "metadata": {
        "id": "claKxuiysqRF",
        "colab_type": "text"
      },
      "source": [
        "Or we can use pandas"
      ]
    },
    {
      "cell_type": "code",
      "metadata": {
        "id": "XofTI7McsqRG",
        "colab_type": "code",
        "colab": {
          "base_uri": "https://localhost:8080/",
          "height": 134
        },
        "outputId": "369e6f23-3ab0-4b07-c58c-42653b070e54"
      },
      "source": [
        "import pandas as pd\n",
        "df = pd.read_csv(url,index_col=0,parse_dates=[0])\n",
        "\n",
        "print(df.head(5))"
      ],
      "execution_count": 8,
      "outputs": [
        {
          "output_type": "stream",
          "text": [
            "            month  date_of_month  day_of_week  births\n",
            "year                                                 \n",
            "2000-01-01      1              1            6    9083\n",
            "2000-01-01      1              2            7    8006\n",
            "2000-01-01      1              3            1   11363\n",
            "2000-01-01      1              4            2   13032\n",
            "2000-01-01      1              5            3   12558\n"
          ],
          "name": "stdout"
        }
      ]
    },
    {
      "cell_type": "markdown",
      "metadata": {
        "id": "eECVfajcsqRI",
        "colab_type": "text"
      },
      "source": [
        "### Count births on each day of week\n",
        "\n",
        "Create a dictionary containing the number of births on each unique day of the week"
      ]
    },
    {
      "cell_type": "code",
      "metadata": {
        "id": "-eRd0rrVsqRJ",
        "colab_type": "code",
        "colab": {},
        "outputId": "96b371dc-f553-4274-b2cf-a4fa1700690e"
      },
      "source": [
        "day_counts = {}\n",
        "split_1 = split[1:len(split)]\n",
        "\n",
        "for row in split_1:\n",
        "    line = row.split(',')\n",
        "    day_of_week = line[3]\n",
        "    births = int(line[4])\n",
        "    if day_of_week in day_counts.keys():\n",
        "        day_counts[day_of_week] += births\n",
        "    else:\n",
        "        day_counts[day_of_week] = births\n",
        "        \n",
        "print(day_counts)"
      ],
      "execution_count": 0,
      "outputs": [
        {
          "output_type": "stream",
          "text": [
            "{'6': 6704495, '7': 5886889, '1': 9316001, '2': 10274874, '3': 10109130, '4': 10045436, '5': 9850199}\n"
          ],
          "name": "stdout"
        }
      ]
    },
    {
      "cell_type": "markdown",
      "metadata": {
        "id": "lbhjkDHNsqRL",
        "colab_type": "text"
      },
      "source": [
        "Or using pandas"
      ]
    },
    {
      "cell_type": "code",
      "metadata": {
        "collapsed": true,
        "id": "fcIDrZdAsqRM",
        "colab_type": "code",
        "colab": {},
        "outputId": "b96902e8-1f0d-4c5a-8f29-b3cc2005c0db"
      },
      "source": [
        "df.groupby(df.day_of_week)['births'].sum()"
      ],
      "execution_count": 0,
      "outputs": [
        {
          "output_type": "execute_result",
          "data": {
            "text/plain": [
              "day_of_week\n",
              "1     9316001\n",
              "2    10274874\n",
              "3    10109130\n",
              "4    10045436\n",
              "5     9850199\n",
              "6     6704495\n",
              "7     5886889\n",
              "Name: births, dtype: int64"
            ]
          },
          "metadata": {
            "tags": []
          },
          "execution_count": 56
        }
      ]
    },
    {
      "cell_type": "markdown",
      "metadata": {
        "id": "r0oNojUrsqRO",
        "colab_type": "text"
      },
      "source": [
        "## Part2: Functional Programming"
      ]
    },
    {
      "cell_type": "markdown",
      "metadata": {
        "id": "kTZzzBY-sqRP",
        "colab_type": "text"
      },
      "source": [
        "While a list of strings helps us get a general picture of the dataset, we need to convert it to a more structured format to be able to analyze it. Specifically, we need to convert the dataset into a list of lists where each nested list contains integer values (not strings). We also need to remove the header row."
      ]
    },
    {
      "cell_type": "code",
      "metadata": {
        "id": "oq_yV2YPsqRQ",
        "colab_type": "code",
        "colab": {}
      },
      "source": [
        "def read_csv(url):\n",
        "    text = text_requests = requests.get(url).text\n",
        "    split = text.split('\\r')\n",
        "    string_list = split[1:len(split)]\n",
        "    final_list = []\n",
        "    for row in string_list:\n",
        "        int_fields = []\n",
        "        string_fields = row.split(',')\n",
        "        for f in string_fields:\n",
        "            int_fields.append(int(f))\n",
        "        final_list.append(int_fields)\n",
        "    return final_list    "
      ],
      "execution_count": 0,
      "outputs": []
    },
    {
      "cell_type": "code",
      "metadata": {
        "id": "PjjgNV_KsqRU",
        "colab_type": "code",
        "colab": {}
      },
      "source": [
        "cdc_list = read_csv(url)"
      ],
      "execution_count": 0,
      "outputs": []
    },
    {
      "cell_type": "code",
      "metadata": {
        "id": "UManN_80sqRW",
        "colab_type": "code",
        "colab": {},
        "outputId": "c5189fe2-f40c-4017-ae84-9a9b6546b14b"
      },
      "source": [
        "cdc_list[0:10]"
      ],
      "execution_count": 0,
      "outputs": [
        {
          "output_type": "execute_result",
          "data": {
            "text/plain": [
              "[[2000, 1, 1, 6, 9083],\n",
              " [2000, 1, 2, 7, 8006],\n",
              " [2000, 1, 3, 1, 11363],\n",
              " [2000, 1, 4, 2, 13032],\n",
              " [2000, 1, 5, 3, 12558],\n",
              " [2000, 1, 6, 4, 12466],\n",
              " [2000, 1, 7, 5, 12516],\n",
              " [2000, 1, 8, 6, 8934],\n",
              " [2000, 1, 9, 7, 7949],\n",
              " [2000, 1, 10, 1, 11668]]"
            ]
          },
          "metadata": {
            "tags": []
          },
          "execution_count": 6
        }
      ]
    },
    {
      "cell_type": "markdown",
      "metadata": {
        "id": "F1Or6hBFsqRY",
        "colab_type": "text"
      },
      "source": [
        "Now that the data is in a more usable format, we can start to analyze it. Let's calculate the total number of births that occured in each month, across all of the years in the dataset. We'll create a dictionary where each key is a unique month and each value is the number of births that happened in that month, across all years:"
      ]
    },
    {
      "cell_type": "code",
      "metadata": {
        "id": "damM71FnsqRZ",
        "colab_type": "code",
        "colab": {}
      },
      "source": [
        "def month_births(req_list):\n",
        "    births_per_month = {}\n",
        "    for l in req_list:\n",
        "        month = l[1]\n",
        "        births = l[4]\n",
        "        if month in births_per_month.keys():\n",
        "            births_per_month[month] += births\n",
        "        else:\n",
        "            births_per_month[month] = births\n",
        "    return births_per_month"
      ],
      "execution_count": 0,
      "outputs": []
    },
    {
      "cell_type": "code",
      "metadata": {
        "id": "hZdL_DcgsqRb",
        "colab_type": "code",
        "colab": {}
      },
      "source": [
        "cdc_month_births = month_births(cdc_list)"
      ],
      "execution_count": 0,
      "outputs": []
    },
    {
      "cell_type": "code",
      "metadata": {
        "id": "EFTSWd_tsqRd",
        "colab_type": "code",
        "colab": {},
        "outputId": "5b94b1fb-a5a1-45f0-f1d6-ec07262592df"
      },
      "source": [
        "cdc_month_births"
      ],
      "execution_count": 0,
      "outputs": [
        {
          "output_type": "execute_result",
          "data": {
            "text/plain": [
              "{1: 5072588,\n",
              " 2: 4725693,\n",
              " 3: 5172961,\n",
              " 4: 4960750,\n",
              " 5: 5195445,\n",
              " 6: 5163360,\n",
              " 7: 5450418,\n",
              " 8: 5540170,\n",
              " 9: 5399592,\n",
              " 10: 5302865,\n",
              " 11: 5008750,\n",
              " 12: 5194432}"
            ]
          },
          "metadata": {
            "tags": []
          },
          "execution_count": 15
        }
      ]
    },
    {
      "cell_type": "markdown",
      "metadata": {
        "id": "D6bUDFPCsqRf",
        "colab_type": "text"
      },
      "source": [
        "Let's now create a function that calculates the total number of births for each unique day of the week. Here's what we want the dictionary to look like:"
      ]
    },
    {
      "cell_type": "code",
      "metadata": {
        "id": "LnmFGlq8sqRg",
        "colab_type": "code",
        "colab": {}
      },
      "source": [
        "def dow_births(req_list):\n",
        "    births_per_dow = {}\n",
        "    for l in req_list:\n",
        "        dow = l[3]\n",
        "        births = l[4]\n",
        "        if dow in births_per_dow.keys():\n",
        "            births_per_dow[dow] += births\n",
        "        else:\n",
        "            births_per_dow[dow] = births\n",
        "    return births_per_dow"
      ],
      "execution_count": 0,
      "outputs": []
    },
    {
      "cell_type": "code",
      "metadata": {
        "id": "bmVPGeEusqRn",
        "colab_type": "code",
        "colab": {}
      },
      "source": [
        "cdc_day_births = dow_births(cdc_list)"
      ],
      "execution_count": 0,
      "outputs": []
    },
    {
      "cell_type": "code",
      "metadata": {
        "id": "TqBef968sqRr",
        "colab_type": "code",
        "colab": {},
        "outputId": "f9e7ff8c-bd6a-4270-aa54-e07c31931545"
      },
      "source": [
        "cdc_day_births"
      ],
      "execution_count": 0,
      "outputs": [
        {
          "output_type": "execute_result",
          "data": {
            "text/plain": [
              "{6: 6704495,\n",
              " 7: 5886889,\n",
              " 1: 9316001,\n",
              " 2: 10274874,\n",
              " 3: 10109130,\n",
              " 4: 10045436,\n",
              " 5: 9850199}"
            ]
          },
          "metadata": {
            "tags": []
          },
          "execution_count": 18
        }
      ]
    },
    {
      "cell_type": "markdown",
      "metadata": {
        "id": "IfMwCXRjsqRv",
        "colab_type": "text"
      },
      "source": [
        "You may have noticed that there was a lot of similarity between the two functions you just wrote. While we can also create separate functions to calculate the totals for the year and date_of_month columns, it's better to create a single function that works for any column and specify the column we want as a parameter each time we call the function."
      ]
    },
    {
      "cell_type": "code",
      "metadata": {
        "id": "d1olPIcOsqRw",
        "colab_type": "code",
        "colab": {}
      },
      "source": [
        "def calc_counts(req_list, col):\n",
        "    births_per_column = {}\n",
        "    for l in req_list:\n",
        "        column = l[col]\n",
        "        births = l[4]\n",
        "        if column in births_per_column.keys():\n",
        "            births_per_column[column] += births\n",
        "        else:\n",
        "            births_per_column[column] = births\n",
        "    return births_per_column"
      ],
      "execution_count": 0,
      "outputs": []
    },
    {
      "cell_type": "code",
      "metadata": {
        "id": "OaNSv5uasqRy",
        "colab_type": "code",
        "colab": {}
      },
      "source": [
        "cdc_year_births = calc_counts(cdc_list, 0)\n",
        "cdc_month_births = calc_counts(cdc_list, 1)\n",
        "cdc_dom_births = calc_counts(cdc_list, 2)\n",
        "cdc_dow_births = calc_counts(cdc_list, 3)"
      ],
      "execution_count": 0,
      "outputs": []
    },
    {
      "cell_type": "markdown",
      "metadata": {
        "id": "pdAzemOSsqR3",
        "colab_type": "text"
      },
      "source": [
        "That's it for the guided steps. Here are some suggestions for next steps:\n",
        "\n",
        "- Write a function that can calculate the min and max values for any dictionary that's passed in.\n",
        "- Write a function that extracts the same values across years and calculates the differences between consecutive values to show if number of births is increasing or decreasing. For example, how did the number of births on Saturday change each year between 1994 and 2003?\n",
        "Find a way to combine the CDC data with the SSA data, which you can find [here](https://github.com/fivethirtyeight/data/tree/master/births/). \n",
        "\n",
        "Specifically, brainstorm ways to deal with the overlapping time periods in the datasets."
      ]
    },
    {
      "cell_type": "code",
      "metadata": {
        "id": "z2p0HhpFsqR3",
        "colab_type": "code",
        "colab": {}
      },
      "source": [
        ""
      ],
      "execution_count": 0,
      "outputs": []
    }
  ]
}