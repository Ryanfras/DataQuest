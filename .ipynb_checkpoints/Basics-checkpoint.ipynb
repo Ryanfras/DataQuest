{
 "cells": [
  {
   "cell_type": "markdown",
   "metadata": {
    "collapsed": true
   },
   "source": [
    "# Hacker News - When will my posts be popular\n",
    "\n",
    "In this project we explore data which consists of posts from Hacker News, a popular site where technology related stories (or 'posts') are voted and commented on.\n",
    "\n",
    "The goal is to analyze whether the timing of you post will effect how popular it will become (i.e. how many comments or votes you get)\n",
    "\n",
    "## Import csv"
   ]
  },
  {
   "cell_type": "code",
   "execution_count": 6,
   "metadata": {
    "collapsed": false
   },
   "outputs": [
    {
     "name": "stdout",
     "output_type": "stream",
     "text": [
      "[['id', 'title', 'url', 'num_points', 'num_comments', 'author', 'created_at'], ['12224879', 'Interactive Dynamic Video', 'http://www.interactivedynamicvideo.com/', '386', '52', 'ne0phyte', '8/4/2016 11:52'], ['10975351', 'How to Use Open Source and Shut the Fuck Up at the Same Time', 'http://hueniverse.com/2016/01/26/how-to-use-open-source-and-shut-the-fuck-up-at-the-same-time/', '39', '10', 'josep2', '1/26/2016 19:30'], ['11964716', \"Florida DJs May Face Felony for April Fools' Water Joke\", 'http://www.thewire.com/entertainment/2013/04/florida-djs-april-fools-water-joke/63798/', '2', '1', 'vezycash', '6/23/2016 22:20']]\n"
     ]
    }
   ],
   "source": [
    "import csv\n",
    "f = open('hacker_news.csv')\n",
    "hn = list(csv.reader(f))\n",
    "print(hn[0:4])"
   ]
  },
  {
   "cell_type": "markdown",
   "metadata": {},
   "source": [
    "Notice how the first line in the inner list contains the column headers and the list after contain the data for one row. In order to analyze our data, we need to first remove the row containing the column headers. Then, we re-assign the original data without the first row"
   ]
  },
  {
   "cell_type": "code",
   "execution_count": 7,
   "metadata": {
    "collapsed": true
   },
   "outputs": [],
   "source": [
    "headers = hn[0]\n",
    "hn = hn[1:len(hn)]"
   ]
  },
  {
   "cell_type": "code",
   "execution_count": 8,
   "metadata": {
    "collapsed": false
   },
   "outputs": [
    {
     "name": "stdout",
     "output_type": "stream",
     "text": [
      "['id', 'title', 'url', 'num_points', 'num_comments', 'author', 'created_at']\n",
      "[['12224879', 'Interactive Dynamic Video', 'http://www.interactivedynamicvideo.com/', '386', '52', 'ne0phyte', '8/4/2016 11:52'], ['10975351', 'How to Use Open Source and Shut the Fuck Up at the Same Time', 'http://hueniverse.com/2016/01/26/how-to-use-open-source-and-shut-the-fuck-up-at-the-same-time/', '39', '10', 'josep2', '1/26/2016 19:30'], ['11964716', \"Florida DJs May Face Felony for April Fools' Water Joke\", 'http://www.thewire.com/entertainment/2013/04/florida-djs-april-fools-water-joke/63798/', '2', '1', 'vezycash', '6/23/2016 22:20'], ['11919867', 'Technology ventures: From Idea to Enterprise', 'https://www.amazon.com/Technology-Ventures-Enterprise-Thomas-Byers/dp/0073523429', '3', '1', 'hswarna', '6/17/2016 0:01']]\n"
     ]
    }
   ],
   "source": [
    "print(headers)\n",
    "print(hn[0:4])"
   ]
  },
  {
   "cell_type": "markdown",
   "metadata": {},
   "source": [
    "Now that we removed the headers from <code>hn</code>, we're ready to filter our data. Since we're only concerned with posts whose titles begin with Ask HN or Show HN, we'll create new lists of lists containing just the data for those titles.\n",
    "\n",
    "To find the posts that begin with either Ask HN or Show HN, we'll use regular expressions. Recall that we can find strings that begin with a certain word or words by using the beginning anchor, ^ , at the start of our regular expression. For example, the regular expression below can be used to match words beginning with Red."
   ]
  },
  {
   "cell_type": "code",
   "execution_count": 10,
   "metadata": {
    "collapsed": false
   },
   "outputs": [
    {
     "name": "stdout",
     "output_type": "stream",
     "text": [
      "Number of Ask HN: 1745\n",
      "Number of Show HN: 1165\n",
      "Number of Other: 17190\n"
     ]
    }
   ],
   "source": [
    "import re\n",
    "ask_posts = []\n",
    "show_posts = []\n",
    "other_posts = []\n",
    "\n",
    "for row in hn:\n",
    "    title = row[1]\n",
    "    match1 = re.search(r\"ask hn\", title, flags=re.I)\n",
    "    match2 = re.search(r\"show hn\", title, flags=re.I)\n",
    "    if match1:\n",
    "        ask_posts.append(row)\n",
    "    elif match2:\n",
    "        show_posts.append(row)\n",
    "    else:\n",
    "        other_posts.append(row)\n",
    "        \n",
    "print('Number of Ask HN: {}'.format(len(ask_posts)))\n",
    "print('Number of Show HN: {}'.format(len(show_posts)))\n",
    "print('Number of Other: {}'.format(len(other_posts)))"
   ]
  },
  {
   "cell_type": "markdown",
   "metadata": {},
   "source": [
    "We separated posts that begin with ASK HN and SHOW HN into two list of lists named ask_posts and show_posts. Below are the first five rows in the ask_posts list of lists:"
   ]
  },
  {
   "cell_type": "code",
   "execution_count": 14,
   "metadata": {
    "collapsed": false
   },
   "outputs": [
    {
     "name": "stdout",
     "output_type": "stream",
     "text": [
      "[['12296411', 'Ask HN: How to improve my personal website?', '', '2', '6', 'ahmedbaracat', '8/16/2016 9:55'], ['10610020', 'Ask HN: Am I the only one outraged by Twitter shutting down share counts?', '', '28', '29', 'tkfx', '11/22/2015 13:43'], ['11610310', 'Ask HN: Aby recent changes to CSS that broke mobile?', '', '1', '1', 'polskibus', '5/2/2016 10:14'], ['12210105', 'Ask HN: Looking for Employee #3 How do I do it?', '', '1', '3', 'sph130', '8/2/2016 14:20'], ['10394168', 'Ask HN: Someone offered to buy my browser extension from me. What now?', '', '28', '17', 'roykolak', '10/15/2015 16:38']]\n"
     ]
    }
   ],
   "source": [
    "print(ask_posts[0:5])"
   ]
  },
  {
   "cell_type": "markdown",
   "metadata": {},
   "source": [
    "Below are the first five rows in the show_posts list of lists:"
   ]
  },
  {
   "cell_type": "code",
   "execution_count": 15,
   "metadata": {
    "collapsed": false
   },
   "outputs": [
    {
     "name": "stdout",
     "output_type": "stream",
     "text": [
      "[['10627194', 'Show HN: Wio Link  ESP8266 Based Web of Things Hardware Development Platform', 'https://iot.seeed.cc', '26', '22', 'kfihihc', '11/25/2015 14:03'], ['10646440', 'Show HN: Something pointless I made', 'http://dn.ht/picklecat/', '747', '102', 'dhotson', '11/29/2015 22:46'], ['11590768', 'Show HN: Shanhu.io, a programming playground powered by e8vm', 'https://shanhu.io', '1', '1', 'h8liu', '4/28/2016 18:05'], ['12178806', 'Show HN: Webscope  Easy way for web developers to communicate with Clients', 'http://webscopeapp.com', '3', '3', 'fastbrick', '7/28/2016 7:11'], ['10872799', 'Show HN: GeoScreenshot  Easily test Geo-IP based web pages', 'https://www.geoscreenshot.com/', '1', '9', 'kpsychwave', '1/9/2016 20:45']]\n"
     ]
    }
   ],
   "source": [
    "print(show_posts[0:5])"
   ]
  },
  {
   "cell_type": "markdown",
   "metadata": {},
   "source": [
    "Next, let's determine if Ask HN or Show HN posts receive more comments on average."
   ]
  },
  {
   "cell_type": "code",
   "execution_count": 31,
   "metadata": {
    "collapsed": false
   },
   "outputs": [
    {
     "name": "stdout",
     "output_type": "stream",
     "text": [
      "Average comments for Ask HN: 14.03\n",
      "Average comments for Show HN: 10.30\n"
     ]
    }
   ],
   "source": [
    "ask_comments = [int(p[4]) for p in ask_posts]\n",
    "show_comments = [int(p[4]) for p in show_posts]\n",
    "\n",
    "avg_ask_comments = sum(ask_comments) / float(len(ask_comments))\n",
    "avg_show_comments = sum(show_comments) / float(len(show_comments))\n",
    "\n",
    "print('Average comments for Ask HN: {:.2f}'.format(avg_ask_comments))\n",
    "print('Average comments for Show HN: {:.2f}'.format(avg_show_comments))"
   ]
  },
  {
   "cell_type": "markdown",
   "metadata": {},
   "source": [
    "On average, Ask HN posts get more comments than Ask HN posts. Since Ask HN posts are more likely to receive comments, we'll focus our remaining analysis just on these posts.\n",
    "\n",
    "Next, we'll determine if Ask HN posts created at a certain time are more likely to attract comments. We'll use the following steps to perform this analysis:\n",
    "\n",
    "- Calculate the amount of Ask HN posts created in each hour of the day, along with the number of comments received.\n",
    "- Calculate the average number of comments Ask HN posts receive by hour created."
   ]
  },
  {
   "cell_type": "code",
   "execution_count": 37,
   "metadata": {
    "collapsed": false
   },
   "outputs": [],
   "source": [
    "import datetime as dt\n",
    "\n",
    "created_date = [p[6] for p in ask_posts]\n",
    "counts_by_hour = {}\n",
    "comments_by_hour = {}\n",
    "\n",
    "result_list = zip(created_date, ask_comments)\n",
    "\n",
    "for date, comment in result_list:\n",
    "    datedt = dt.datetime.strptime(date, '%m/%d/%Y %H:%M')\n",
    "    hour = datedt.strftime('%H')\n",
    "    \n",
    "    # if hour isn't in key create key and set equal to 1 / comment\n",
    "    if hour not in counts_by_hour.keys():\n",
    "        counts_by_hour[hour] = 1\n",
    "        comments_by_hour[hour] = comment\n",
    "    # otherwise increment existing count by 1 / comment\n",
    "    else:\n",
    "        counts_by_hour[hour] += 1\n",
    "        comments_by_hour[hour] += comment"
   ]
  },
  {
   "cell_type": "markdown",
   "metadata": {},
   "source": [
    "- counts_by_hour: contains the number of Ask HN posts created during each hour of the day\n",
    "- comments_by_hour: contains the corresponding number of comments Ask HN posts created at each hour received\n",
    "\n",
    "Next, we'll use these two dictionaries to calculate the average number of comments for posts created during each hour of the day."
   ]
  },
  {
   "cell_type": "code",
   "execution_count": 43,
   "metadata": {
    "collapsed": false
   },
   "outputs": [
    {
     "data": {
      "text/plain": [
       "[['20', 21.525],\n",
       " ['08', 10.25],\n",
       " ['14', 13.233644859813085],\n",
       " ['05', 10.08695652173913],\n",
       " ['23', 7.898550724637682],\n",
       " ['22', 6.746478873239437],\n",
       " ['10', 13.440677966101696],\n",
       " ['21', 16.009174311926607],\n",
       " ['03', 7.796296296296297],\n",
       " ['18', 13.20183486238532],\n",
       " ['04', 7.170212765957447],\n",
       " ['00', 8.127272727272727],\n",
       " ['09', 5.5777777777777775],\n",
       " ['11', 11.051724137931034],\n",
       " ['15', 38.5948275862069],\n",
       " ['17', 11.46],\n",
       " ['06', 9.022727272727273],\n",
       " ['19', 10.8],\n",
       " ['12', 9.41095890410959],\n",
       " ['07', 7.852941176470588],\n",
       " ['13', 14.741176470588234],\n",
       " ['01', 11.383333333333333],\n",
       " ['16', 16.796296296296298],\n",
       " ['02', 23.810344827586206]]"
      ]
     },
     "execution_count": 43,
     "metadata": {},
     "output_type": "execute_result"
    }
   ],
   "source": [
    "avg_by_hour = [[hour, comments_by_hour[hour] / counts_by_hour[hour]] \\\n",
    "               for hour in counts_by_hour] \n",
    "avg_by_hour"
   ]
  },
  {
   "cell_type": "markdown",
   "metadata": {},
   "source": [
    "In the last cell, we calculated the average number of comments for posts created during each hour of the day and stored the results in a list of lists named avg_by_hour\n",
    "\n",
    "Although we now have the results we need, this format makes it hard to identify the hours with the highest values. Let's finish by sorting the list of lists and printing the five highest values in a format that's easier to read."
   ]
  },
  {
   "cell_type": "code",
   "execution_count": 49,
   "metadata": {
    "collapsed": false
   },
   "outputs": [
    {
     "name": "stdout",
     "output_type": "stream",
     "text": [
      "Top 5 Hours for 'Ask HN' Comments\n",
      "15:00: 38.59 average comments per post\n",
      "02:00: 23.81 average comments per post\n",
      "20:00: 21.52 average comments per post\n",
      "16:00: 16.80 average comments per post\n",
      "21:00: 16.01 average comments per post\n"
     ]
    }
   ],
   "source": [
    "avg_by_hour = sorted(avg_by_hour, key = lambda x : x[1], reverse = True)\n",
    "print(\"Top 5 Hours for 'Ask HN' Comments\")\n",
    "\n",
    "for a in avg_by_hour[0:5]:\n",
    "    print('{}:00: {:.2f} average comments per post'.format(a[0], a[1]))\n"
   ]
  },
  {
   "cell_type": "markdown",
   "metadata": {},
   "source": [
    "## Conclusion\n",
    "\n",
    "We used [Hackernews](https://www.kaggle.com/hacker-news/hacker-news-posts/home) data to extract only posts which have either Ask HN or Show HN tags. We calculated the average number of comments for each of these types of posts. Next we decided to focus only on Ask HN posts because they were more likely to get comments. Finally we calculated to average number of comments for each hour and sorted from highest to lowest.\n",
    "\n",
    "We can conclude that 15:00 (3PM) is the best time to post Ask HN as this has the highest likelyhood of getting comments. It has almost double the average number of comments compared to the next best time which is 02:00.\n",
    "\n",
    "It is worth mentioning that the calculation for average is highly influenced by outliers. Thus, this analysis could have been heavily influenced by outliers i.e. perhaps there was 1 extremely popular post which happaned at 15:00. An alternative calculation we could use is the median.\n",
    "\n",
    "It is also possible that the comments behavior is different for Show HN posts. Hence, this conclusion should not be generalized to all posts. If we do the same analysis for Show HN and get similar results than we could more safely conclude the timing of your post has a influence on number of comments. "
   ]
  },
  {
   "cell_type": "code",
   "execution_count": null,
   "metadata": {
    "collapsed": true
   },
   "outputs": [],
   "source": []
  }
 ],
 "metadata": {
  "kernelspec": {
   "display_name": "Python 3",
   "language": "python",
   "name": "python3"
  },
  "language_info": {
   "codemirror_mode": {
    "name": "ipython",
    "version": 3
   },
   "file_extension": ".py",
   "mimetype": "text/x-python",
   "name": "python",
   "nbconvert_exporter": "python",
   "pygments_lexer": "ipython3",
   "version": "3.4.3"
  }
 },
 "nbformat": 4,
 "nbformat_minor": 2
}
