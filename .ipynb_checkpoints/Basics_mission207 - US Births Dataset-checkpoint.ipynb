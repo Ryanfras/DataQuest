{
 "cells": [
  {
   "cell_type": "markdown",
   "metadata": {},
   "source": [
    "## Birth Dates in the United States\n",
    "\n",
    "The raw data behind the story **Some People Are Too Superstitious To Have A Baby on Friday the 13th**, which you can read [here](http://fivethirtyeight.com/features/some-people-are-too-superstitious-to-have-a-baby-on-friday-the-13th/).\n",
    "\n",
    "We'll be working with the data set from the Centers for Disease Control and Prevention's National Center for Health Statistics. The data set has the following structure:\n",
    "\n",
    "- `year` - Year\n",
    "- `month` - Month\n",
    "- `date_of_month` - Day number of the month\n",
    "- `day_of_week` - Day of week, where 1 is Monday and 7 is Sunday\n",
    "- `births` - Number of births\n",
    "\n",
    "the data can be downloaded [here](https://github.com/fivethirtyeight/data/tree/master/births/)"
   ]
  },
  {
   "cell_type": "markdown",
   "metadata": {},
   "source": [
    "### Get the data\n",
    "\n",
    "There are a few ways to read data directly from github."
   ]
  },
  {
   "cell_type": "code",
   "execution_count": 49,
   "metadata": {},
   "outputs": [],
   "source": [
    "url = \"https://raw.githubusercontent.com/fivethirtyeight/data/master/births/US_births_2000-2014_SSA.csv\""
   ]
  },
  {
   "cell_type": "markdown",
   "metadata": {},
   "source": [
    "Using csv and urllib. "
   ]
  },
  {
   "cell_type": "code",
   "execution_count": 13,
   "metadata": {},
   "outputs": [],
   "source": [
    "import csv\n",
    "import urllib.request as ur"
   ]
  },
  {
   "cell_type": "markdown",
   "metadata": {},
   "source": [
    "Open and read the html file to investigate the contents"
   ]
  },
  {
   "cell_type": "code",
   "execution_count": 50,
   "metadata": {},
   "outputs": [],
   "source": [
    "file = ur.urlopen(url)\n",
    "html = file.read()\n",
    "text_urllib = html.decode()"
   ]
  },
  {
   "cell_type": "markdown",
   "metadata": {},
   "source": [
    "We can also use requests package"
   ]
  },
  {
   "cell_type": "code",
   "execution_count": 51,
   "metadata": {},
   "outputs": [],
   "source": [
    "import requests\n",
    "\n",
    "text_requests = requests.get(url).text"
   ]
  },
  {
   "cell_type": "markdown",
   "metadata": {},
   "source": [
    "From here on both methods use the same code. Split the file into a list for each row in the csv file by using the delimiter '\\r'"
   ]
  },
  {
   "cell_type": "code",
   "execution_count": 47,
   "metadata": {
    "collapsed": true
   },
   "outputs": [],
   "source": [
    "split = text_urllib.split('\\r')\n",
    "split = text_requests.split('\\r')"
   ]
  },
  {
   "cell_type": "code",
   "execution_count": 48,
   "metadata": {
    "collapsed": true
   },
   "outputs": [
    {
     "name": "stdout",
     "output_type": "stream",
     "text": [
      "['year', 'month', 'date_of_month', 'day_of_week', 'births']\n",
      "['2000', '1', '1', '6', '9083']\n",
      "['2000', '1', '2', '7', '8006']\n",
      "['2000', '1', '3', '1', '11363']\n",
      "['2000', '1', '4', '2', '13032']\n"
     ]
    }
   ],
   "source": [
    "for row in split[0:5]:\n",
    "    line = row.split(',')\n",
    "    print(line)"
   ]
  },
  {
   "cell_type": "markdown",
   "metadata": {},
   "source": [
    "Or we can use pandas"
   ]
  },
  {
   "cell_type": "code",
   "execution_count": 52,
   "metadata": {},
   "outputs": [
    {
     "name": "stdout",
     "output_type": "stream",
     "text": [
      "            month  date_of_month  day_of_week  births\n",
      "year                                                 \n",
      "2000-01-01      1              1            6    9083\n",
      "2000-01-01      1              2            7    8006\n",
      "2000-01-01      1              3            1   11363\n",
      "2000-01-01      1              4            2   13032\n",
      "2000-01-01      1              5            3   12558\n"
     ]
    }
   ],
   "source": [
    "import pandas as pd\n",
    "df = pd.read_csv(url,index_col=0,parse_dates=[0])\n",
    "\n",
    "print(df.head(5))"
   ]
  },
  {
   "cell_type": "markdown",
   "metadata": {},
   "source": [
    "### Count births on each day of week\n",
    "\n",
    "Create a dictionary containing the number of births on each unique day of the week"
   ]
  },
  {
   "cell_type": "code",
   "execution_count": 58,
   "metadata": {
    "collapsed": false
   },
   "outputs": [
    {
     "name": "stdout",
     "output_type": "stream",
     "text": [
      "{'6': 6704495, '7': 5886889, '1': 9316001, '2': 10274874, '3': 10109130, '4': 10045436, '5': 9850199}\n"
     ]
    }
   ],
   "source": [
    "day_counts = {}\n",
    "split_1 = split[1:len(split)]\n",
    "\n",
    "for row in split_1:\n",
    "    line = row.split(',')\n",
    "    day_of_week = line[3]\n",
    "    births = int(line[4])\n",
    "    if day_of_week in day_counts.keys():\n",
    "        day_counts[day_of_week] += births\n",
    "    else:\n",
    "        day_counts[day_of_week] = births\n",
    "        \n",
    "print(day_counts)"
   ]
  },
  {
   "cell_type": "markdown",
   "metadata": {},
   "source": [
    "Or using pandas"
   ]
  },
  {
   "cell_type": "code",
   "execution_count": 56,
   "metadata": {
    "collapsed": true
   },
   "outputs": [
    {
     "data": {
      "text/plain": [
       "day_of_week\n",
       "1     9316001\n",
       "2    10274874\n",
       "3    10109130\n",
       "4    10045436\n",
       "5     9850199\n",
       "6     6704495\n",
       "7     5886889\n",
       "Name: births, dtype: int64"
      ]
     },
     "execution_count": 56,
     "metadata": {},
     "output_type": "execute_result"
    }
   ],
   "source": [
    "df.groupby(df.day_of_week)['births'].sum()"
   ]
  },
  {
   "cell_type": "code",
   "execution_count": null,
   "metadata": {},
   "outputs": [],
   "source": []
  }
 ],
 "metadata": {
  "anaconda-cloud": {},
  "kernelspec": {
   "display_name": "Python 3",
   "language": "python",
   "name": "python3"
  },
  "language_info": {
   "codemirror_mode": {
    "name": "ipython",
    "version": 3
   },
   "file_extension": ".py",
   "mimetype": "text/x-python",
   "name": "python",
   "nbconvert_exporter": "python",
   "pygments_lexer": "ipython3",
   "version": "3.6.7"
  }
 },
 "nbformat": 4,
 "nbformat_minor": 2
}
